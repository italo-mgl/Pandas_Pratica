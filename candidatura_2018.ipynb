{
 "cells": [
  {
   "cell_type": "code",
   "execution_count": 40,
   "metadata": {},
   "outputs": [],
   "source": [
    "import pandas as pd"
   ]
  },
  {
   "cell_type": "markdown",
   "metadata": {},
   "source": [
    "### Lendo CSV"
   ]
  },
  {
   "cell_type": "code",
   "execution_count": 41,
   "metadata": {},
   "outputs": [
    {
     "data": {
      "text/html": [
       "<div>\n",
       "<style scoped>\n",
       "    .dataframe tbody tr th:only-of-type {\n",
       "        vertical-align: middle;\n",
       "    }\n",
       "\n",
       "    .dataframe tbody tr th {\n",
       "        vertical-align: top;\n",
       "    }\n",
       "\n",
       "    .dataframe thead th {\n",
       "        text-align: right;\n",
       "    }\n",
       "</style>\n",
       "<table border=\"1\" class=\"dataframe\">\n",
       "  <thead>\n",
       "    <tr style=\"text-align: right;\">\n",
       "      <th></th>\n",
       "      <th>ano_eleicao</th>\n",
       "      <th>data_eleicao</th>\n",
       "      <th>descricao_eleicao</th>\n",
       "      <th>nome_tipo_eleicao</th>\n",
       "      <th>tipo_abrangencia_eleicao</th>\n",
       "      <th>descricao_totalizacao_turno</th>\n",
       "      <th>numero_turno</th>\n",
       "      <th>descricao_ue</th>\n",
       "      <th>sigla_ue</th>\n",
       "      <th>sigla_uf</th>\n",
       "      <th>...</th>\n",
       "      <th>descricao_situacao_candidatura</th>\n",
       "      <th>despesa_maxima_campanha</th>\n",
       "      <th>idade_data_eleicao</th>\n",
       "      <th>idade_data_posse</th>\n",
       "      <th>nome_urna</th>\n",
       "      <th>numero_processo_candidatura</th>\n",
       "      <th>numero_protocolo_candidatura</th>\n",
       "      <th>numero_sequencial</th>\n",
       "      <th>numero_urna</th>\n",
       "      <th>pergunta</th>\n",
       "    </tr>\n",
       "  </thead>\n",
       "  <tbody>\n",
       "    <tr>\n",
       "      <th>0</th>\n",
       "      <td>2018</td>\n",
       "      <td>07/10/2018</td>\n",
       "      <td>ELEICOES GERAIS ESTADUAIS 2018</td>\n",
       "      <td>ELEICAO ORDINARIA</td>\n",
       "      <td>ESTADUAL</td>\n",
       "      <td>SUPLENTE</td>\n",
       "      <td>1</td>\n",
       "      <td>ACRE</td>\n",
       "      <td>AC</td>\n",
       "      <td>AC</td>\n",
       "      <td>...</td>\n",
       "      <td>APTO</td>\n",
       "      <td>0.0</td>\n",
       "      <td>NaN</td>\n",
       "      <td>29.0</td>\n",
       "      <td>TEMYLLIS SILVA</td>\n",
       "      <td>6005525020186010000</td>\n",
       "      <td>-1.0</td>\n",
       "      <td>10000608364</td>\n",
       "      <td>13131.0</td>\n",
       "      <td>NaN</td>\n",
       "    </tr>\n",
       "    <tr>\n",
       "      <th>1</th>\n",
       "      <td>2018</td>\n",
       "      <td>07/10/2018</td>\n",
       "      <td>ELEICOES GERAIS ESTADUAIS 2018</td>\n",
       "      <td>ELEICAO ORDINARIA</td>\n",
       "      <td>ESTADUAL</td>\n",
       "      <td>SUPLENTE</td>\n",
       "      <td>1</td>\n",
       "      <td>ACRE</td>\n",
       "      <td>AC</td>\n",
       "      <td>AC</td>\n",
       "      <td>...</td>\n",
       "      <td>APTO</td>\n",
       "      <td>0.0</td>\n",
       "      <td>NaN</td>\n",
       "      <td>58.0</td>\n",
       "      <td>LUCILA</td>\n",
       "      <td>6006157520186010000</td>\n",
       "      <td>-1.0</td>\n",
       "      <td>10000610667</td>\n",
       "      <td>11456.0</td>\n",
       "      <td>NaN</td>\n",
       "    </tr>\n",
       "    <tr>\n",
       "      <th>2</th>\n",
       "      <td>2018</td>\n",
       "      <td>07/10/2018</td>\n",
       "      <td>ELEICOES GERAIS ESTADUAIS 2018</td>\n",
       "      <td>ELEICAO ORDINARIA</td>\n",
       "      <td>ESTADUAL</td>\n",
       "      <td>SUPLENTE</td>\n",
       "      <td>1</td>\n",
       "      <td>ACRE</td>\n",
       "      <td>AC</td>\n",
       "      <td>AC</td>\n",
       "      <td>...</td>\n",
       "      <td>APTO</td>\n",
       "      <td>0.0</td>\n",
       "      <td>NaN</td>\n",
       "      <td>53.0</td>\n",
       "      <td>SOCORRINHA</td>\n",
       "      <td>6003706420186010000</td>\n",
       "      <td>-1.0</td>\n",
       "      <td>10000602320</td>\n",
       "      <td>12888.0</td>\n",
       "      <td>NaN</td>\n",
       "    </tr>\n",
       "    <tr>\n",
       "      <th>3</th>\n",
       "      <td>2018</td>\n",
       "      <td>07/10/2018</td>\n",
       "      <td>ELEICOES GERAIS ESTADUAIS 2018</td>\n",
       "      <td>ELEICAO ORDINARIA</td>\n",
       "      <td>ESTADUAL</td>\n",
       "      <td>SUPLENTE</td>\n",
       "      <td>1</td>\n",
       "      <td>ACRE</td>\n",
       "      <td>AC</td>\n",
       "      <td>AC</td>\n",
       "      <td>...</td>\n",
       "      <td>APTO</td>\n",
       "      <td>0.0</td>\n",
       "      <td>NaN</td>\n",
       "      <td>50.0</td>\n",
       "      <td>SUBTENENTE CANDEIAS</td>\n",
       "      <td>6001965520186010000</td>\n",
       "      <td>-1.0</td>\n",
       "      <td>10000600226</td>\n",
       "      <td>17190.0</td>\n",
       "      <td>NaN</td>\n",
       "    </tr>\n",
       "    <tr>\n",
       "      <th>4</th>\n",
       "      <td>2018</td>\n",
       "      <td>07/10/2018</td>\n",
       "      <td>ELEICOES GERAIS ESTADUAIS 2018</td>\n",
       "      <td>ELEICAO ORDINARIA</td>\n",
       "      <td>ESTADUAL</td>\n",
       "      <td>NAO ELEITO</td>\n",
       "      <td>1</td>\n",
       "      <td>ACRE</td>\n",
       "      <td>AC</td>\n",
       "      <td>AC</td>\n",
       "      <td>...</td>\n",
       "      <td>APTO</td>\n",
       "      <td>0.0</td>\n",
       "      <td>NaN</td>\n",
       "      <td>27.0</td>\n",
       "      <td>CRISTIANO BORGES</td>\n",
       "      <td>6006382120186010000</td>\n",
       "      <td>-1.0</td>\n",
       "      <td>10000607177</td>\n",
       "      <td>28234.0</td>\n",
       "      <td>NaN</td>\n",
       "    </tr>\n",
       "  </tbody>\n",
       "</table>\n",
       "<p>5 rows × 45 columns</p>\n",
       "</div>"
      ],
      "text/plain": [
       "   ano_eleicao data_eleicao               descricao_eleicao  \\\n",
       "0         2018   07/10/2018  ELEICOES GERAIS ESTADUAIS 2018   \n",
       "1         2018   07/10/2018  ELEICOES GERAIS ESTADUAIS 2018   \n",
       "2         2018   07/10/2018  ELEICOES GERAIS ESTADUAIS 2018   \n",
       "3         2018   07/10/2018  ELEICOES GERAIS ESTADUAIS 2018   \n",
       "4         2018   07/10/2018  ELEICOES GERAIS ESTADUAIS 2018   \n",
       "\n",
       "   nome_tipo_eleicao tipo_abrangencia_eleicao descricao_totalizacao_turno  \\\n",
       "0  ELEICAO ORDINARIA                 ESTADUAL                    SUPLENTE   \n",
       "1  ELEICAO ORDINARIA                 ESTADUAL                    SUPLENTE   \n",
       "2  ELEICAO ORDINARIA                 ESTADUAL                    SUPLENTE   \n",
       "3  ELEICAO ORDINARIA                 ESTADUAL                    SUPLENTE   \n",
       "4  ELEICAO ORDINARIA                 ESTADUAL                  NAO ELEITO   \n",
       "\n",
       "   numero_turno descricao_ue sigla_ue sigla_uf  ...  \\\n",
       "0             1         ACRE       AC       AC  ...   \n",
       "1             1         ACRE       AC       AC  ...   \n",
       "2             1         ACRE       AC       AC  ...   \n",
       "3             1         ACRE       AC       AC  ...   \n",
       "4             1         ACRE       AC       AC  ...   \n",
       "\n",
       "   descricao_situacao_candidatura despesa_maxima_campanha idade_data_eleicao  \\\n",
       "0                            APTO                     0.0                NaN   \n",
       "1                            APTO                     0.0                NaN   \n",
       "2                            APTO                     0.0                NaN   \n",
       "3                            APTO                     0.0                NaN   \n",
       "4                            APTO                     0.0                NaN   \n",
       "\n",
       "  idade_data_posse            nome_urna numero_processo_candidatura  \\\n",
       "0             29.0       TEMYLLIS SILVA         6005525020186010000   \n",
       "1             58.0               LUCILA         6006157520186010000   \n",
       "2             53.0           SOCORRINHA         6003706420186010000   \n",
       "3             50.0  SUBTENENTE CANDEIAS         6001965520186010000   \n",
       "4             27.0     CRISTIANO BORGES         6006382120186010000   \n",
       "\n",
       "  numero_protocolo_candidatura numero_sequencial numero_urna pergunta  \n",
       "0                         -1.0       10000608364     13131.0      NaN  \n",
       "1                         -1.0       10000610667     11456.0      NaN  \n",
       "2                         -1.0       10000602320     12888.0      NaN  \n",
       "3                         -1.0       10000600226     17190.0      NaN  \n",
       "4                         -1.0       10000607177     28234.0      NaN  \n",
       "\n",
       "[5 rows x 45 columns]"
      ]
     },
     "execution_count": 41,
     "metadata": {},
     "output_type": "execute_result"
    }
   ],
   "source": [
    "df = pd.read_csv(\"./data/tb_candidatura_2018.csv\", sep=\";\")\n",
    "df.head()"
   ]
  },
  {
   "cell_type": "markdown",
   "metadata": {},
   "source": [
    "### Lendo XLSX Excel"
   ]
  },
  {
   "cell_type": "code",
   "execution_count": 42,
   "metadata": {},
   "outputs": [
    {
     "data": {
      "text/html": [
       "<div>\n",
       "<style scoped>\n",
       "    .dataframe tbody tr th:only-of-type {\n",
       "        vertical-align: middle;\n",
       "    }\n",
       "\n",
       "    .dataframe tbody tr th {\n",
       "        vertical-align: top;\n",
       "    }\n",
       "\n",
       "    .dataframe thead th {\n",
       "        text-align: right;\n",
       "    }\n",
       "</style>\n",
       "<table border=\"1\" class=\"dataframe\">\n",
       "  <thead>\n",
       "    <tr style=\"text-align: right;\">\n",
       "      <th></th>\n",
       "      <th>numero_sequencial</th>\n",
       "      <th>codigo_tipo</th>\n",
       "      <th>descricao_tipo</th>\n",
       "      <th>detalhe</th>\n",
       "      <th>numero_ordem</th>\n",
       "      <th>valor</th>\n",
       "    </tr>\n",
       "  </thead>\n",
       "  <tbody>\n",
       "    <tr>\n",
       "      <th>0</th>\n",
       "      <td>10000600001</td>\n",
       "      <td>12</td>\n",
       "      <td>CASA</td>\n",
       "      <td>NaN</td>\n",
       "      <td>1</td>\n",
       "      <td>60000.00</td>\n",
       "    </tr>\n",
       "    <tr>\n",
       "      <th>1</th>\n",
       "      <td>10000600001</td>\n",
       "      <td>21</td>\n",
       "      <td>VEICULO AUTOMOTOR TERRESTRE: CAMINHAO, AUTOMOV...</td>\n",
       "      <td>NaN</td>\n",
       "      <td>2</td>\n",
       "      <td>35830.96</td>\n",
       "    </tr>\n",
       "    <tr>\n",
       "      <th>2</th>\n",
       "      <td>10000600002</td>\n",
       "      <td>14</td>\n",
       "      <td>TERRA NUA</td>\n",
       "      <td>NaN</td>\n",
       "      <td>7</td>\n",
       "      <td>60000.00</td>\n",
       "    </tr>\n",
       "    <tr>\n",
       "      <th>3</th>\n",
       "      <td>10000600246</td>\n",
       "      <td>13</td>\n",
       "      <td>TERRENO</td>\n",
       "      <td>NaN</td>\n",
       "      <td>5</td>\n",
       "      <td>26666.66</td>\n",
       "    </tr>\n",
       "    <tr>\n",
       "      <th>4</th>\n",
       "      <td>10000600001</td>\n",
       "      <td>12</td>\n",
       "      <td>CASA</td>\n",
       "      <td>NaN</td>\n",
       "      <td>3</td>\n",
       "      <td>180000.00</td>\n",
       "    </tr>\n",
       "  </tbody>\n",
       "</table>\n",
       "</div>"
      ],
      "text/plain": [
       "   numero_sequencial  codigo_tipo  \\\n",
       "0        10000600001           12   \n",
       "1        10000600001           21   \n",
       "2        10000600002           14   \n",
       "3        10000600246           13   \n",
       "4        10000600001           12   \n",
       "\n",
       "                                      descricao_tipo detalhe  numero_ordem  \\\n",
       "0                                               CASA     NaN             1   \n",
       "1  VEICULO AUTOMOTOR TERRESTRE: CAMINHAO, AUTOMOV...     NaN             2   \n",
       "2                                          TERRA NUA     NaN             7   \n",
       "3                                            TERRENO     NaN             5   \n",
       "4                                               CASA     NaN             3   \n",
       "\n",
       "       valor  \n",
       "0   60000.00  \n",
       "1   35830.96  \n",
       "2   60000.00  \n",
       "3   26666.66  \n",
       "4  180000.00  "
      ]
     },
     "execution_count": 42,
     "metadata": {},
     "output_type": "execute_result"
    }
   ],
   "source": [
    "df_declaracao = pd.read_excel(\"./data/tb_declaracao_2018.xlsx\")\n",
    "df_declaracao.head()"
   ]
  },
  {
   "cell_type": "markdown",
   "metadata": {},
   "source": [
    "### Manipulando DataFrame"
   ]
  },
  {
   "cell_type": "code",
   "execution_count": 43,
   "metadata": {},
   "outputs": [
    {
     "data": {
      "text/plain": [
       "(29145, 45)"
      ]
     },
     "execution_count": 43,
     "metadata": {},
     "output_type": "execute_result"
    }
   ],
   "source": [
    "df.shape"
   ]
  },
  {
   "cell_type": "markdown",
   "metadata": {},
   "source": [
    "#### Listando colunas DataFrame"
   ]
  },
  {
   "cell_type": "code",
   "execution_count": 44,
   "metadata": {},
   "outputs": [
    {
     "data": {
      "text/plain": [
       "Index(['ano_eleicao', 'data_eleicao', 'descricao_eleicao', 'nome_tipo_eleicao',\n",
       "       'tipo_abrangencia_eleicao', 'descricao_totalizacao_turno',\n",
       "       'numero_turno', 'descricao_ue', 'sigla_ue', 'sigla_uf', 'cpf',\n",
       "       'data_nascimento', 'descricao_cor_raca', 'descricao_estado_civil',\n",
       "       'descricao_genero', 'descricao_grau_instrucao',\n",
       "       'descricao_nacionalidade', 'descricao_ocupacao', 'email', 'nome',\n",
       "       'nome_municipio_nascimento', 'nome_social', 'sigla_uf_nascimento',\n",
       "       'titulo_eleitoral', 'composicao_legenda', 'nome_legenda',\n",
       "       'nome_partido', 'numero_partido', 'sigla_legenda', 'sigla_partido',\n",
       "       'tipo_agremiacao', 'concorre_reeleicao', 'declara_bens',\n",
       "       'descricao_cargo', 'descricao_detalhe_situacao_candidatura',\n",
       "       'descricao_situacao_candidatura', 'despesa_maxima_campanha',\n",
       "       'idade_data_eleicao', 'idade_data_posse', 'nome_urna',\n",
       "       'numero_processo_candidatura', 'numero_protocolo_candidatura',\n",
       "       'numero_sequencial', 'numero_urna', 'pergunta'],\n",
       "      dtype='object')"
      ]
     },
     "execution_count": 44,
     "metadata": {},
     "output_type": "execute_result"
    }
   ],
   "source": [
    "df.columns"
   ]
  },
  {
   "cell_type": "markdown",
   "metadata": {},
   "source": [
    "#### Navegando pelo DataFrame"
   ]
  },
  {
   "cell_type": "code",
   "execution_count": 45,
   "metadata": {},
   "outputs": [
    {
     "data": {
      "text/plain": [
       "0                     TEMYLLIS LIMA DA SILVA\n",
       "1                            LUCILA BRUNETTA\n",
       "2    MARIA DO SOCORRO DE JESUS DO NASCIMENTO\n",
       "3         MARIA DAS CANDEIAS DOS SANTOS LIMA\n",
       "4           FRANCISCO CRISTIANO SOUZA BORGES\n",
       "Name: nome, dtype: object"
      ]
     },
     "execution_count": 45,
     "metadata": {},
     "output_type": "execute_result"
    }
   ],
   "source": [
    "df['nome'][:5]"
   ]
  },
  {
   "cell_type": "code",
   "execution_count": 46,
   "metadata": {},
   "outputs": [
    {
     "data": {
      "text/plain": [
       "29140          IZZIA HASSAN IBRAHIM SOUZA\n",
       "29141                GLEIDY BRAGA RIBEIRO\n",
       "29142          PEDRO DIAS CORREA DA SILVA\n",
       "29143       JOSE DOS SANTOS FREIRE JUNIOR\n",
       "29144    JANAD MARQUES DE FREITAS VALCARI\n",
       "Name: nome, dtype: object"
      ]
     },
     "execution_count": 46,
     "metadata": {},
     "output_type": "execute_result"
    }
   ],
   "source": [
    "df['nome'][-5:]"
   ]
  },
  {
   "cell_type": "code",
   "execution_count": 47,
   "metadata": {},
   "outputs": [
    {
     "data": {
      "text/html": [
       "<div>\n",
       "<style scoped>\n",
       "    .dataframe tbody tr th:only-of-type {\n",
       "        vertical-align: middle;\n",
       "    }\n",
       "\n",
       "    .dataframe tbody tr th {\n",
       "        vertical-align: top;\n",
       "    }\n",
       "\n",
       "    .dataframe thead th {\n",
       "        text-align: right;\n",
       "    }\n",
       "</style>\n",
       "<table border=\"1\" class=\"dataframe\">\n",
       "  <thead>\n",
       "    <tr style=\"text-align: right;\">\n",
       "      <th></th>\n",
       "      <th>nome</th>\n",
       "      <th>cpf</th>\n",
       "    </tr>\n",
       "  </thead>\n",
       "  <tbody>\n",
       "    <tr>\n",
       "      <th>0</th>\n",
       "      <td>TEMYLLIS LIMA DA SILVA</td>\n",
       "      <td>87231280200</td>\n",
       "    </tr>\n",
       "    <tr>\n",
       "      <th>1</th>\n",
       "      <td>LUCILA BRUNETTA</td>\n",
       "      <td>10885102215</td>\n",
       "    </tr>\n",
       "    <tr>\n",
       "      <th>2</th>\n",
       "      <td>MARIA DO SOCORRO DE JESUS DO NASCIMENTO</td>\n",
       "      <td>19646216234</td>\n",
       "    </tr>\n",
       "    <tr>\n",
       "      <th>3</th>\n",
       "      <td>MARIA DAS CANDEIAS DOS SANTOS LIMA</td>\n",
       "      <td>31679234234</td>\n",
       "    </tr>\n",
       "    <tr>\n",
       "      <th>4</th>\n",
       "      <td>FRANCISCO CRISTIANO SOUZA BORGES</td>\n",
       "      <td>1198167254</td>\n",
       "    </tr>\n",
       "    <tr>\n",
       "      <th>5</th>\n",
       "      <td>NATALINO PAULO DE SOUZA</td>\n",
       "      <td>72605685268</td>\n",
       "    </tr>\n",
       "    <tr>\n",
       "      <th>6</th>\n",
       "      <td>EDIGLEY DE SOUSA ROSENDO</td>\n",
       "      <td>58502998234</td>\n",
       "    </tr>\n",
       "    <tr>\n",
       "      <th>7</th>\n",
       "      <td>JOSE ARNALDO DA SILVA BARROS</td>\n",
       "      <td>33966036215</td>\n",
       "    </tr>\n",
       "    <tr>\n",
       "      <th>8</th>\n",
       "      <td>JOSE EDIMAR SANTIAGO DE MELO JUNIOR</td>\n",
       "      <td>58560432272</td>\n",
       "    </tr>\n",
       "    <tr>\n",
       "      <th>9</th>\n",
       "      <td>LUZIVALDO DE MOURA OLIVEIRA</td>\n",
       "      <td>64643506253</td>\n",
       "    </tr>\n",
       "  </tbody>\n",
       "</table>\n",
       "</div>"
      ],
      "text/plain": [
       "                                      nome          cpf\n",
       "0                   TEMYLLIS LIMA DA SILVA  87231280200\n",
       "1                          LUCILA BRUNETTA  10885102215\n",
       "2  MARIA DO SOCORRO DE JESUS DO NASCIMENTO  19646216234\n",
       "3       MARIA DAS CANDEIAS DOS SANTOS LIMA  31679234234\n",
       "4         FRANCISCO CRISTIANO SOUZA BORGES   1198167254\n",
       "5                  NATALINO PAULO DE SOUZA  72605685268\n",
       "6                 EDIGLEY DE SOUSA ROSENDO  58502998234\n",
       "7             JOSE ARNALDO DA SILVA BARROS  33966036215\n",
       "8      JOSE EDIMAR SANTIAGO DE MELO JUNIOR  58560432272\n",
       "9              LUZIVALDO DE MOURA OLIVEIRA  64643506253"
      ]
     },
     "execution_count": 47,
     "metadata": {},
     "output_type": "execute_result"
    }
   ],
   "source": [
    "df[['nome', 'cpf']][:10]"
   ]
  },
  {
   "cell_type": "code",
   "execution_count": 48,
   "metadata": {},
   "outputs": [
    {
     "data": {
      "text/html": [
       "<div>\n",
       "<style scoped>\n",
       "    .dataframe tbody tr th:only-of-type {\n",
       "        vertical-align: middle;\n",
       "    }\n",
       "\n",
       "    .dataframe tbody tr th {\n",
       "        vertical-align: top;\n",
       "    }\n",
       "\n",
       "    .dataframe thead th {\n",
       "        text-align: right;\n",
       "    }\n",
       "</style>\n",
       "<table border=\"1\" class=\"dataframe\">\n",
       "  <thead>\n",
       "    <tr style=\"text-align: right;\">\n",
       "      <th></th>\n",
       "      <th>nome</th>\n",
       "      <th>cpf</th>\n",
       "      <th>descricao_ocupacao</th>\n",
       "    </tr>\n",
       "  </thead>\n",
       "  <tbody>\n",
       "    <tr>\n",
       "      <th>29140</th>\n",
       "      <td>IZZIA HASSAN IBRAHIM SOUZA</td>\n",
       "      <td>17361546803</td>\n",
       "      <td>EMPRESARIO</td>\n",
       "    </tr>\n",
       "    <tr>\n",
       "      <th>29141</th>\n",
       "      <td>GLEIDY BRAGA RIBEIRO</td>\n",
       "      <td>99065347100</td>\n",
       "      <td>ADVOGADO</td>\n",
       "    </tr>\n",
       "    <tr>\n",
       "      <th>29142</th>\n",
       "      <td>PEDRO DIAS CORREA DA SILVA</td>\n",
       "      <td>21725349604</td>\n",
       "      <td>AGRONOMO</td>\n",
       "    </tr>\n",
       "    <tr>\n",
       "      <th>29143</th>\n",
       "      <td>JOSE DOS SANTOS FREIRE JUNIOR</td>\n",
       "      <td>74022024887</td>\n",
       "      <td>DEPUTADO</td>\n",
       "    </tr>\n",
       "    <tr>\n",
       "      <th>29144</th>\n",
       "      <td>JANAD MARQUES DE FREITAS VALCARI</td>\n",
       "      <td>71487093187</td>\n",
       "      <td>EMPRESARIO</td>\n",
       "    </tr>\n",
       "  </tbody>\n",
       "</table>\n",
       "</div>"
      ],
      "text/plain": [
       "                                   nome          cpf descricao_ocupacao\n",
       "29140        IZZIA HASSAN IBRAHIM SOUZA  17361546803         EMPRESARIO\n",
       "29141              GLEIDY BRAGA RIBEIRO  99065347100           ADVOGADO\n",
       "29142        PEDRO DIAS CORREA DA SILVA  21725349604           AGRONOMO\n",
       "29143     JOSE DOS SANTOS FREIRE JUNIOR  74022024887           DEPUTADO\n",
       "29144  JANAD MARQUES DE FREITAS VALCARI  71487093187         EMPRESARIO"
      ]
     },
     "execution_count": 48,
     "metadata": {},
     "output_type": "execute_result"
    }
   ],
   "source": [
    "df[['nome', 'cpf', 'descricao_ocupacao']].tail()"
   ]
  },
  {
   "cell_type": "markdown",
   "metadata": {},
   "source": [
    "#### Navegando pela colunas e linhas"
   ]
  },
  {
   "cell_type": "code",
   "execution_count": 50,
   "metadata": {},
   "outputs": [
    {
     "data": {
      "text/plain": [
       "'IZZIA HASSAN IBRAHIM SOUZA'"
      ]
     },
     "execution_count": 50,
     "metadata": {},
     "output_type": "execute_result"
    }
   ],
   "source": [
    "df['nome'][29140]"
   ]
  },
  {
   "cell_type": "code",
   "execution_count": 52,
   "metadata": {},
   "outputs": [
    {
     "name": "stdout",
     "output_type": "stream",
     "text": [
      "<class 'pandas.core.frame.DataFrame'>\n",
      "RangeIndex: 29145 entries, 0 to 29144\n",
      "Data columns (total 45 columns):\n",
      " #   Column                                  Non-Null Count  Dtype  \n",
      "---  ------                                  --------------  -----  \n",
      " 0   ano_eleicao                             29145 non-null  int64  \n",
      " 1   data_eleicao                            29145 non-null  object \n",
      " 2   descricao_eleicao                       29145 non-null  object \n",
      " 3   nome_tipo_eleicao                       29145 non-null  object \n",
      " 4   tipo_abrangencia_eleicao                29145 non-null  object \n",
      " 5   descricao_totalizacao_turno             27443 non-null  object \n",
      " 6   numero_turno                            29145 non-null  int64  \n",
      " 7   descricao_ue                            29145 non-null  object \n",
      " 8   sigla_ue                                29145 non-null  object \n",
      " 9   sigla_uf                                29145 non-null  object \n",
      " 10  cpf                                     29145 non-null  int64  \n",
      " 11  data_nascimento                         29145 non-null  object \n",
      " 12  descricao_cor_raca                      29145 non-null  object \n",
      " 13  descricao_estado_civil                  29145 non-null  object \n",
      " 14  descricao_genero                        29145 non-null  object \n",
      " 15  descricao_grau_instrucao                29145 non-null  object \n",
      " 16  descricao_nacionalidade                 29145 non-null  object \n",
      " 17  descricao_ocupacao                      29145 non-null  object \n",
      " 18  email                                   29142 non-null  object \n",
      " 19  nome                                    29145 non-null  object \n",
      " 20  nome_municipio_nascimento               29144 non-null  object \n",
      " 21  nome_social                             29 non-null     object \n",
      " 22  sigla_uf_nascimento                     29145 non-null  object \n",
      " 23  titulo_eleitoral                        29145 non-null  float64\n",
      " 24  composicao_legenda                      29142 non-null  object \n",
      " 25  nome_legenda                            29145 non-null  object \n",
      " 26  nome_partido                            29145 non-null  object \n",
      " 27  numero_partido                          29145 non-null  int64  \n",
      " 28  sigla_legenda                           0 non-null      float64\n",
      " 29  sigla_partido                           29145 non-null  object \n",
      " 30  tipo_agremiacao                         29145 non-null  object \n",
      " 31  concorre_reeleicao                      29145 non-null  object \n",
      " 32  declara_bens                            29145 non-null  object \n",
      " 33  descricao_cargo                         29145 non-null  object \n",
      " 34  descricao_detalhe_situacao_candidatura  29145 non-null  object \n",
      " 35  descricao_situacao_candidatura          29145 non-null  object \n",
      " 36  despesa_maxima_campanha                 29145 non-null  float64\n",
      " 37  idade_data_eleicao                      0 non-null      float64\n",
      " 38  idade_data_posse                        29145 non-null  float64\n",
      " 39  nome_urna                               29145 non-null  object \n",
      " 40  numero_processo_candidatura             29145 non-null  int64  \n",
      " 41  numero_protocolo_candidatura            29145 non-null  float64\n",
      " 42  numero_sequencial                       29145 non-null  int64  \n",
      " 43  numero_urna                             29145 non-null  float64\n",
      " 44  pergunta                                0 non-null      float64\n",
      "dtypes: float64(8), int64(6), object(31)\n",
      "memory usage: 10.0+ MB\n"
     ]
    }
   ],
   "source": [
    "df.info()"
   ]
  },
  {
   "cell_type": "code",
   "execution_count": 55,
   "metadata": {},
   "outputs": [
    {
     "data": {
      "text/plain": [
       "(93266, 6)"
      ]
     },
     "execution_count": 55,
     "metadata": {},
     "output_type": "execute_result"
    }
   ],
   "source": [
    "df_declaracao.shape"
   ]
  },
  {
   "cell_type": "code",
   "execution_count": null,
   "metadata": {},
   "outputs": [],
   "source": []
  }
 ],
 "metadata": {
  "kernelspec": {
   "display_name": "Python 3",
   "language": "python",
   "name": "python3"
  },
  "language_info": {
   "codemirror_mode": {
    "name": "ipython",
    "version": 3
   },
   "file_extension": ".py",
   "mimetype": "text/x-python",
   "name": "python",
   "nbconvert_exporter": "python",
   "pygments_lexer": "ipython3",
   "version": "3.11.7"
  }
 },
 "nbformat": 4,
 "nbformat_minor": 2
}
